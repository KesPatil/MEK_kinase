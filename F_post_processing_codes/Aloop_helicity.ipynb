{
 "cells": [
  {
   "cell_type": "code",
   "execution_count": 12,
   "metadata": {},
   "outputs": [
    {
     "name": "stdout",
     "output_type": "stream",
     "text": [
      "2.2.0\n"
     ]
    },
    {
     "name": "stderr",
     "output_type": "stream",
     "text": [
      "/Users/owner/opt/anaconda3/lib/python3.9/site-packages/Bio/pairwise2.py:278: BiopythonDeprecationWarning: Bio.pairwise2 has been deprecated, and we intend to remove it in a future release of Biopython. As an alternative, please consider using Bio.Align.PairwiseAligner as a replacement, and contact the Biopython developers if you still need the Bio.pairwise2 module.\n",
      "  warnings.warn(\n"
     ]
    }
   ],
   "source": [
    "%matplotlib inline\n",
    "\n",
    "import numpy as np\n",
    "import time\n",
    "import MDAnalysis as mda\n",
    "from MDAnalysis.tests.datafiles import XTC, GRO\n",
    "import MDAnalysis.analysis.rms\n",
    "from MDAnalysis.analysis.rms import rmsd\n",
    "from MDAnalysis.analysis import align\n",
    "import glob\n",
    "print(MDAnalysis.__version__)"
   ]
  },
  {
   "cell_type": "code",
   "execution_count": 13,
   "metadata": {},
   "outputs": [
    {
     "name": "stderr",
     "output_type": "stream",
     "text": [
      "/Users/owner/opt/anaconda3/lib/python3.9/site-packages/MDAnalysis/analysis/hbonds/hbond_autocorrel.py:52: DeprecationWarning: This module was moved to MDAnalysis.analysis.hydrogenbonds.hbond_autocorrel; hbonds.hbond_autocorrel will be removed in 3.0.0.\n",
      "  warnings.warn(wmsg, category=DeprecationWarning)\n"
     ]
    },
    {
     "name": "stdout",
     "output_type": "stream",
     "text": [
      "0.7896180152893066\n"
     ]
    }
   ],
   "source": [
    "import numpy as np\n",
    "from time import time\n",
    "import time\n",
    "import MDAnalysis as mda\n",
    "from MDAnalysis.tests.datafiles import XTC, GRO\n",
    "import MDAnalysis.analysis.rms\n",
    "from MDAnalysis.analysis.rms import rmsd\n",
    "from MDAnalysis.analysis import align\n",
    "import MDAnalysis.analysis.hbonds\n",
    "import matplotlib.pyplot as plt\n",
    "import itertools as it\n",
    "from MDAnalysis.analysis.hydrogenbonds.hbond_analysis import HydrogenBondAnalysis as HBA\n",
    "\n",
    "start_time = time.time()\n",
    "\n",
    "\n",
    "\n",
    "var_xtc = '/Volumes/3KSPAT/from_2KSPAT/metad_convergence/wt/free_ener_wt/8us/zone8.xtc'\n",
    "\n",
    "    \n",
    "################################################################################################################ \n",
    "################################################################################################################\n",
    "var_gro = '/Volumes/3KSPAT/from_2KSPAT/metad_convergence/wt/trajectory_files/active_mek_wt_protein.gro' \n",
    "u = mda.Universe(var_gro,var_xtc)\n",
    "\n",
    "\n",
    "hbonds = HBA(u, hydrogens_sel='protein and (resid 208 to 233) and name HN', acceptors_sel='protein  and (resid 208 to 233) and  name O', donors_sel='protein and (resid 208 to 233) and name N', d_h_a_angle_cutoff =150, d_a_cutoff=3.2,d_h_cutoff=1.2)\n",
    "hbonds.run()\n",
    "\n",
    "end_time = time.time()\n",
    "t = end_time - start_time\n",
    "print(t) "
   ]
  },
  {
   "cell_type": "code",
   "execution_count": 14,
   "metadata": {},
   "outputs": [
    {
     "name": "stderr",
     "output_type": "stream",
     "text": [
      "/Users/owner/opt/anaconda3/lib/python3.9/site-packages/MDAnalysis/analysis/hydrogenbonds/hbond_analysis.py:672: DeprecationWarning: The `hbonds` attribute was deprecated in MDAnalysis 2.0.0 and will be removed in MDAnalysis 3.0.0. Please use `results.hbonds` instead.\n",
      "  warnings.warn(wmsg, DeprecationWarning)\n"
     ]
    },
    {
     "data": {
      "text/plain": [
       "array([[3015, 3016, 2962,   94],\n",
       "       [2991, 2992, 2950,   44],\n",
       "       [2974, 2975, 2931,   35],\n",
       "       [3139, 3140, 3082,   21],\n",
       "       [3001, 3002, 2973,   17],\n",
       "       [2963, 2964, 2912,    8],\n",
       "       [3118, 3119, 3082,    7],\n",
       "       [3083, 3084, 3045,    4],\n",
       "       [3069, 3070, 3045,    3],\n",
       "       [2963, 2964, 2931,    3],\n",
       "       [3015, 3016, 2950,    2],\n",
       "       [3139, 3140, 3106,    1],\n",
       "       [3107, 3108, 3061,    1],\n",
       "       [2991, 2992, 2962,    1]])"
      ]
     },
     "execution_count": 14,
     "metadata": {},
     "output_type": "execute_result"
    }
   ],
   "source": [
    "hbonds.count_by_ids()"
   ]
  },
  {
   "cell_type": "code",
   "execution_count": 15,
   "metadata": {},
   "outputs": [
    {
     "data": {
      "text/plain": [
       "'8.02342'"
      ]
     },
     "execution_count": 15,
     "metadata": {},
     "output_type": "execute_result"
    }
   ],
   "source": [
    "with open('/Volumes/3KSPAT/from_2KSPAT/metad_convergence/wt/trajectory_files/active_mek_wt_protein.gro') as f:\n",
    "    \n",
    "    lines = f.readlines()\n",
    "        \n",
    "new_lines = []    \n",
    "# Get rid of empty lines\n",
    "for line in lines:\n",
    "    # Strip whitespace, should leave nothing if empty line was just \"\\n\"\n",
    "    if not line.strip():\n",
    "        continue\n",
    "    # We got something, save it\n",
    "    else:\n",
    "        new_lines.append(line)\n",
    "        \n",
    "lines = new_lines[2:]\n",
    "y1 = []\n",
    "y2 = []\n",
    "y3 = []\n",
    "for i in range(0,len(lines)):\n",
    "    \n",
    "    words = lines[i].split()\n",
    "    int_lst = [str(x) for x in words]\n",
    "   \n",
    "    y1.append(int_lst[0]) #y1 \n",
    "    y2.append(int_lst[1]) #y2 \n",
    "    y3.append(int_lst[2]) #y3 \n",
    "\n",
    "y1.pop()\n",
    "y2.pop()\n",
    "y3.pop()"
   ]
  },
  {
   "cell_type": "code",
   "execution_count": 16,
   "metadata": {},
   "outputs": [],
   "source": [
    "amide_hbonds = np.zeros((len(y1),2))"
   ]
  },
  {
   "cell_type": "code",
   "execution_count": 18,
   "metadata": {},
   "outputs": [],
   "source": [
    "y2"
   ]
  },
  {
   "cell_type": "code",
   "execution_count": 22,
   "metadata": {},
   "outputs": [],
   "source": [
    "\n",
    "amide_hbonds"
   ]
  },
  {
   "cell_type": "code",
   "execution_count": 23,
   "metadata": {},
   "outputs": [],
   "source": [
    "p_h = []\n",
    "for i in range(0,len(y1)):\n",
    "    if y2[i]=='N':\n",
    "        amide_hbonds[i][0] = int(\"\".join([s for s in y1[i] if s.isdigit()]))\n",
    "        \n",
    "        amide_hbonds[i][1] = int(y3[i])  - 1 # since the hbonds data is stored  as based 0\n",
    "    if y2[i]=='HN':\n",
    "        p_h.append(i)"
   ]
  },
  {
   "cell_type": "code",
   "execution_count": 25,
   "metadata": {},
   "outputs": [],
   "source": [
    "p =  np.where(amide_hbonds[:,0]  != 0)\n",
    "p = np.array(p)\n",
    "p[0]"
   ]
  },
  {
   "cell_type": "code",
   "execution_count": 27,
   "metadata": {},
   "outputs": [],
   "source": [
    "p[0] + 1"
   ]
  },
  {
   "cell_type": "code",
   "execution_count": 28,
   "metadata": {},
   "outputs": [
    {
     "data": {
      "text/plain": [
       "array([[3015, 3016, 2962,   94],\n",
       "       [2991, 2992, 2950,   44],\n",
       "       [2974, 2975, 2931,   35],\n",
       "       [3139, 3140, 3082,   21],\n",
       "       [3001, 3002, 2973,   17],\n",
       "       [2963, 2964, 2912,    8],\n",
       "       [3118, 3119, 3082,    7],\n",
       "       [3083, 3084, 3045,    4],\n",
       "       [3069, 3070, 3045,    3],\n",
       "       [2963, 2964, 2931,    3],\n",
       "       [3015, 3016, 2950,    2],\n",
       "       [3139, 3140, 3106,    1],\n",
       "       [3107, 3108, 3061,    1],\n",
       "       [2991, 2992, 2962,    1]])"
      ]
     },
     "execution_count": 28,
     "metadata": {},
     "output_type": "execute_result"
    }
   ],
   "source": [
    "hbonds.count_by_ids()"
   ]
  },
  {
   "cell_type": "code",
   "execution_count": null,
   "metadata": {},
   "outputs": [],
   "source": []
  },
  {
   "cell_type": "code",
   "execution_count": 29,
   "metadata": {},
   "outputs": [],
   "source": [
    "hmat = hbonds.count_by_ids()"
   ]
  },
  {
   "cell_type": "code",
   "execution_count": 30,
   "metadata": {},
   "outputs": [],
   "source": [
    "result = []\n",
    "for i in range(0,len(hbonds.count_by_ids())):\n",
    "    for j in range(i+1, len(hbonds.count_by_ids())):\n",
    "        \n",
    "        if hbonds.count_by_ids()[i][0] == hbonds.count_by_ids()[j][0]:\n",
    "            hmat[i][3] = hmat[i][3] + hmat[j][3]\n",
    "        \n",
    "        \n",
    "        \n",
    "    "
   ]
  },
  {
   "cell_type": "code",
   "execution_count": null,
   "metadata": {},
   "outputs": [],
   "source": []
  },
  {
   "cell_type": "code",
   "execution_count": 31,
   "metadata": {},
   "outputs": [],
   "source": [
    "rmat = []"
   ]
  },
  {
   "cell_type": "code",
   "execution_count": 32,
   "metadata": {},
   "outputs": [
    {
     "data": {
      "text/plain": [
       "[[3015, 3016, 2962, 96]]"
      ]
     },
     "execution_count": 32,
     "metadata": {},
     "output_type": "execute_result"
    }
   ],
   "source": [
    "\n",
    "rmat= [hmat[0].tolist()]\n",
    "rmat"
   ]
  },
  {
   "cell_type": "code",
   "execution_count": 33,
   "metadata": {},
   "outputs": [],
   "source": [
    "for i in range(1,len(hmat)):\n",
    "    if hmat[i].tolist()[0] not in [j[0] for j in rmat]:\n",
    "        rmat.append(hmat[i].tolist())\n",
    "    \n",
    "    \n",
    "    \n",
    "    "
   ]
  },
  {
   "cell_type": "code",
   "execution_count": 34,
   "metadata": {},
   "outputs": [
    {
     "data": {
      "text/plain": [
       "2991"
      ]
     },
     "execution_count": 34,
     "metadata": {},
     "output_type": "execute_result"
    }
   ],
   "source": [
    "hmat[i].tolist()[0]"
   ]
  },
  {
   "cell_type": "code",
   "execution_count": 35,
   "metadata": {},
   "outputs": [
    {
     "data": {
      "text/plain": [
       "10"
      ]
     },
     "execution_count": 35,
     "metadata": {},
     "output_type": "execute_result"
    }
   ],
   "source": [
    "len(rmat)"
   ]
  },
  {
   "cell_type": "code",
   "execution_count": 36,
   "metadata": {},
   "outputs": [
    {
     "data": {
      "text/plain": [
       "14"
      ]
     },
     "execution_count": 36,
     "metadata": {},
     "output_type": "execute_result"
    }
   ],
   "source": [
    "len(hmat)"
   ]
  },
  {
   "cell_type": "code",
   "execution_count": 37,
   "metadata": {},
   "outputs": [
    {
     "data": {
      "text/plain": [
       "[[3015, 3016, 2962, 96],\n",
       " [2991, 2992, 2950, 45],\n",
       " [2974, 2975, 2931, 35],\n",
       " [3139, 3140, 3082, 22],\n",
       " [3001, 3002, 2973, 17],\n",
       " [2963, 2964, 2912, 11],\n",
       " [3118, 3119, 3082, 7],\n",
       " [3083, 3084, 3045, 4],\n",
       " [3069, 3070, 3045, 3],\n",
       " [3107, 3108, 3061, 1]]"
      ]
     },
     "execution_count": 37,
     "metadata": {},
     "output_type": "execute_result"
    }
   ],
   "source": [
    "rmat"
   ]
  },
  {
   "cell_type": "code",
   "execution_count": 22,
   "metadata": {},
   "outputs": [],
   "source": [
    "for i in range(0,len(rmat)):\n",
    "    rmat[i][3] = rmat[i][3] / len(u.trajectory)"
   ]
  },
  {
   "cell_type": "code",
   "execution_count": 4,
   "metadata": {},
   "outputs": [],
   "source": [
    "rmat"
   ]
  },
  {
   "cell_type": "code",
   "execution_count": 24,
   "metadata": {},
   "outputs": [],
   "source": [
    "oxy_atom = [i[2] for i in rmat]"
   ]
  },
  {
   "cell_type": "code",
   "execution_count": 25,
   "metadata": {},
   "outputs": [],
   "source": [
    "nitro_atom =[i[0] for i in rmat]"
   ]
  },
  {
   "cell_type": "code",
   "execution_count": 2,
   "metadata": {},
   "outputs": [],
   "source": [
    "dmat = []\n",
    "for i in range(0,len(rmat)):\n",
    "    oxy_res_num = int(\"\".join([s for s in y1[oxy_atom[i]-1] if s.isdigit()]))\n",
    "    nitro_res_num = int(\"\".join([s for s in y1[nitro_atom[i]-1] if s.isdigit()]))\n",
    "    print(oxy_res_num - nitro_res_num )\n",
    "    if np.abs(oxy_res_num - nitro_res_num ) == 4:\n",
    "        dmat.append(rmat[i])\n",
    "        "
   ]
  },
  {
   "cell_type": "code",
   "execution_count": 10,
   "metadata": {},
   "outputs": [],
   "source": [
    "dmat"
   ]
  },
  {
   "cell_type": "code",
   "execution_count": 3,
   "metadata": {},
   "outputs": [],
   "source": [
    "## check\n",
    "oxy_atom = [j[2] for j in dmat]\n",
    "nitro_atom = [j[0] for j in dmat]\n",
    "\n",
    "for i in range(0,len(dmat)):\n",
    "    oxy_res_num = int(\"\".join([s for s in y1[oxy_atom[i]-1] if s.isdigit()]))\n",
    "    nitro_res_num = int(\"\".join([s for s in y1[nitro_atom[i]-1] if s.isdigit()]))\n",
    "    print(oxy_res_num - nitro_res_num)\n"
   ]
  },
  {
   "cell_type": "code",
   "execution_count": 29,
   "metadata": {},
   "outputs": [],
   "source": [
    "f = p[0] + 1"
   ]
  },
  {
   "cell_type": "code",
   "execution_count": 1,
   "metadata": {},
   "outputs": [],
   "source": [
    "f.tolist()"
   ]
  },
  {
   "cell_type": "code",
   "execution_count": 31,
   "metadata": {},
   "outputs": [],
   "source": [
    "ind = []\n",
    "for i in range(0,len(dmat)):\n",
    "    ind.append(f.tolist().index(dmat[i][0]))\n",
    "    \n",
    "    "
   ]
  },
  {
   "cell_type": "code",
   "execution_count": 32,
   "metadata": {},
   "outputs": [
    {
     "data": {
      "text/plain": [
       "[186, 185, 196, 184, 193, 194]"
      ]
     },
     "execution_count": 32,
     "metadata": {},
     "output_type": "execute_result"
    }
   ],
   "source": [
    "ind "
   ]
  },
  {
   "cell_type": "code",
   "execution_count": null,
   "metadata": {},
   "outputs": [],
   "source": []
  },
  {
   "cell_type": "code",
   "execution_count": null,
   "metadata": {},
   "outputs": [],
   "source": []
  },
  {
   "cell_type": "code",
   "execution_count": 33,
   "metadata": {},
   "outputs": [],
   "source": [
    "res = np.array(ind) + 34 - 1"
   ]
  },
  {
   "cell_type": "code",
   "execution_count": 34,
   "metadata": {},
   "outputs": [
    {
     "data": {
      "text/plain": [
       "array([0.36290323, 0.28225806, 0.17741935, 0.08870968, 0.03225806,\n",
       "       0.00806452])"
      ]
     },
     "execution_count": 34,
     "metadata": {},
     "output_type": "execute_result"
    }
   ],
   "source": [
    "occupancies = np.array([j[3] for j in dmat])\n",
    "occupancies"
   ]
  },
  {
   "cell_type": "code",
   "execution_count": 35,
   "metadata": {},
   "outputs": [
    {
     "data": {
      "text/plain": [
       "<BarContainer object of 6 artists>"
      ]
     },
     "execution_count": 35,
     "metadata": {},
     "output_type": "execute_result"
    },
    {
     "data": {
      "image/png": "[encoded data removed]",
      "text/plain": [
       "<Figure size 432x288 with 1 Axes>"
      ]
     },
     "metadata": {
      "needs_background": "light"
     },
     "output_type": "display_data"
    }
   ],
   "source": [
    "plt.bar(res, occupancies)"
   ]
  },
  {
   "cell_type": "code",
   "execution_count": 36,
   "metadata": {},
   "outputs": [
    {
     "data": {
      "image/png": "[encoded data removed]",
      "text/plain": [
       "<Figure size 432x288 with 1 Axes>"
      ]
     },
     "metadata": {
      "needs_background": "light"
     },
     "output_type": "display_data"
    }
   ],
   "source": [
    "#ax.plot(bins, y, '--')\n",
    "plt.xlabel('Residue Number',fontsize=18)\n",
    "plt.ylabel('Hbond occupancy',fontsize=18)\n",
    "plt.title('A-loop Hbond occupancy',fontsize=18)\n",
    "plt.bar(res, occupancies)\n",
    "plt.ylim((0,1))\n",
    "plt.xticks(fontsize= 10)\n",
    "plt.yticks(fontsize= 20)\n",
    "\n",
    "plt.xticks(np.arange(208,234,3).tolist())\n",
    "# Tweak spacing to prevent clipping of ylabel\n",
    "\n",
    "plt.savefig('Zone8_aloop_occupancy.png', bbox_inches = 'tight', dpi = 300)\n",
    "plt.show()"
   ]
  },
  {
   "cell_type": "code",
   "execution_count": null,
   "metadata": {},
   "outputs": [],
   "source": []
  }
 ],
 "metadata": {
  "kernelspec": {
   "display_name": "Python 3",
   "language": "python",
   "name": "python3"
  },
  "language_info": {
   "codemirror_mode": {
    "name": "ipython",
    "version": 3
   },
   "file_extension": ".py",
   "mimetype": "text/x-python",
   "name": "python",
   "nbconvert_exporter": "python",
   "pygments_lexer": "ipython3",
   "version": "3.9.13"
  }
 },
 "nbformat": 4,
 "nbformat_minor": 4
}
