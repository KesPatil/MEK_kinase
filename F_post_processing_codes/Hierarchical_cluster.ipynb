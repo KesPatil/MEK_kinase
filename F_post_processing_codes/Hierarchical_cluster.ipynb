{
 "cells": [
  {
   "cell_type": "code",
   "execution_count": 1,
   "metadata": {},
   "outputs": [
    {
     "name": "stderr",
     "output_type": "stream",
     "text": [
      "/Users/owner/opt/anaconda3/lib/python3.9/site-packages/Bio/pairwise2.py:278: BiopythonDeprecationWarning: Bio.pairwise2 has been deprecated, and we intend to remove it in a future release of Biopython. As an alternative, please consider using Bio.Align.PairwiseAligner as a replacement, and contact the Biopython developers if you still need the Bio.pairwise2 module.\n",
      "  warnings.warn(\n"
     ]
    }
   ],
   "source": [
    "import numpy as np\n",
    "import time\n",
    "import MDAnalysis as mda\n",
    "from MDAnalysis.tests.datafiles import XTC, GRO\n",
    "import MDAnalysis.analysis.rms\n",
    "from MDAnalysis.analysis.rms import rmsd\n",
    "from MDAnalysis.analysis import align"
   ]
  },
  {
   "cell_type": "code",
   "execution_count": 3,
   "metadata": {},
   "outputs": [],
   "source": [
    "C_wt = np.loadtxt('/Volumes/3KSPAT/from_2KSPAT/metad_convergence/wt/free_ener_wt/8us/Boltzmann_wighted_WT_corr.txt')\n",
    "C_e203k = np.loadtxt('/Volumes/3KSPAT/from_2KSPAT/metad_convergence/e203k/e203_metadyn_2/analysis/Boltzmann_wighted_e203k_corr.txt')\n",
    "C_ssdd = np.loadtxt('/Volumes/3KSPAT/from_2KSPAT/metad_convergence/ssdd/ssdd_metadyn_2/analysis/Boltzmann_wighted_ssdd_corr.txt')\n",
    "C_e203k_ssdd = np.loadtxt('/Volumes/3KSPAT/chestnut/ceph/rradhakrishnan/metadynamics_ssdd_e203k_2/analysis/Boltzmann_wighted_e203k_ssdd_corr.txt')\n",
    "C_f53s = np.loadtxt('/Volumes/3KSPAT/from_2KSPAT/metad_convergence/f53s/f53s_matadyn_2/analysis/traj_f53s/Boltzmann_weighted_f53s_corr.txt')\n",
    "C_dp = np.loadtxt('/Users/owner/Desktop/diphos/Boltzmann_wighted_diphos_corr.txt')"
   ]
  },
  {
   "cell_type": "code",
   "execution_count": 4,
   "metadata": {},
   "outputs": [],
   "source": [
    "f = [ C_wt, C_e203k, C_ssdd, C_e203k_ssdd, C_f53s, C_dp]\n",
    "h = [ C_wt, C_e203k, C_ssdd, C_e203k_ssdd, C_f53s, C_dp]\n",
    "d_mat = np.zeros((len(f),len(f)))\n",
    "\n",
    "\n",
    "for i in range(0,len(f)):\n",
    "    for j in range(0,len(f)):\n",
    "        d_mat[i][j] = np.sum((f[i] - h[j])**2)\n",
    "        \n",
    "        "
   ]
  },
  {
   "cell_type": "code",
   "execution_count": 5,
   "metadata": {},
   "outputs": [
    {
     "data": {
      "text/plain": [
       "array([[ 0.        , 39.1731333 , 33.53917183, 45.54969241, 43.09318995,\n",
       "        49.25694284],\n",
       "       [39.1731333 ,  0.        , 12.01933046, 13.36048253, 12.27947969,\n",
       "        12.04902303],\n",
       "       [33.53917183, 12.01933046,  0.        , 20.45648562, 17.13911864,\n",
       "        16.11400039],\n",
       "       [45.54969241, 13.36048253, 20.45648562,  0.        , 15.57116787,\n",
       "        12.79626503],\n",
       "       [43.09318995, 12.27947969, 17.13911864, 15.57116787,  0.        ,\n",
       "        18.07599578],\n",
       "       [49.25694284, 12.04902303, 16.11400039, 12.79626503, 18.07599578,\n",
       "         0.        ]])"
      ]
     },
     "execution_count": 5,
     "metadata": {},
     "output_type": "execute_result"
    }
   ],
   "source": [
    "d_mat = d_mat/1000\n",
    "d_mat"
   ]
  },
  {
   "cell_type": "code",
   "execution_count": 6,
   "metadata": {},
   "outputs": [
    {
     "data": {
      "image/png": "[encoded data removed]",
      "text/plain": [
       "<Figure size 640x480 with 1 Axes>"
      ]
     },
     "metadata": {},
     "output_type": "display_data"
    }
   ],
   "source": [
    "import numpy as np\n",
    "\n",
    "from scipy.cluster.hierarchy import dendrogram, linkage\n",
    "from scipy.spatial.distance import squareform\n",
    "\n",
    "import matplotlib.pyplot as plt\n",
    "\n",
    "\n",
    "mat = d_mat\n",
    "dists = squareform(mat)\n",
    "linkage_matrix = linkage(dists, \"single\")\n",
    "dendrogram(linkage_matrix, labels=[\"wt\", \"e203k\", \"ssdd\", \"e203k_ssdd\", \"f53s\", \"dp\"],leaf_font_size=14)\n",
    "plt.title(\"MEK mutation hierarchical clustering\")\n",
    "plt.ylabel(\"Distance\", fontsize=15)\n",
    "plt.yticks(fontsize=10)\n",
    "plt.xticks(fontsize=12)\n",
    "\n",
    "plt.savefig('MEK_cluster.png', bbox_inches = 'tight', dpi = 300)\n",
    "plt.show()"
   ]
  },
  {
   "cell_type": "code",
   "execution_count": null,
   "metadata": {},
   "outputs": [],
   "source": []
  }
 ],
 "metadata": {
  "kernelspec": {
   "display_name": "Python 3",
   "language": "python",
   "name": "python3"
  },
  "language_info": {
   "codemirror_mode": {
    "name": "ipython",
    "version": 3
   },
   "file_extension": ".py",
   "mimetype": "text/x-python",
   "name": "python",
   "nbconvert_exporter": "python",
   "pygments_lexer": "ipython3",
   "version": "3.9.13"
  }
 },
 "nbformat": 4,
 "nbformat_minor": 4
}
