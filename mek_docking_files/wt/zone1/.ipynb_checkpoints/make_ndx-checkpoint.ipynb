{
 "cells": [
  {
   "cell_type": "code",
   "execution_count": 14,
   "metadata": {},
   "outputs": [],
   "source": [
    "import MDAnalysis as mda\n",
    "\n",
    "u=mda.Universe(\"zone1.pdb\")\n",
    "selected = u.select_atoms(\"protein and (resid 74-82 or resid 95 or resid 97 or resid 127 or resid 143-146 or resid 149-150 or resid 152-153 or resid 190 or resid 192 or resid 194-195 or resid 197 or resid 207-208 or resid 225-226)\")\n",
    "selected.write(\"index.ndx\", mode=\"w\", name=\"bindingsite\")\n",
    "selected_whole = u.select_atoms('resid 34-393')\n",
    "selected_whole.write(\"index.ndx\",mode='a',name='protein')\n"
   ]
  },
  {
   "cell_type": "code",
   "execution_count": null,
   "metadata": {},
   "outputs": [],
   "source": []
  }
 ],
 "metadata": {
  "kernelspec": {
   "display_name": "Python 3",
   "language": "python",
   "name": "python3"
  },
  "language_info": {
   "codemirror_mode": {
    "name": "ipython",
    "version": 3
   },
   "file_extension": ".py",
   "mimetype": "text/x-python",
   "name": "python",
   "nbconvert_exporter": "python",
   "pygments_lexer": "ipython3",
   "version": "3.8.6"
  }
 },
 "nbformat": 4,
 "nbformat_minor": 4
}
